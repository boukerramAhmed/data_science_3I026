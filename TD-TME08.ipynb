{
 "cells": [
  {
   "cell_type": "markdown",
   "metadata": {},
   "source": [
    "IA & Data science (3i026) -- 2018-2019\n",
    "--------\n",
    "*&copy; Equipe pédagogique: Manon Ansart, Vincent Guigue, Marie-Jeanne Lesot, Christophe Marsala, Olivier Schwander.*"
   ]
  },
  {
   "cell_type": "markdown",
   "metadata": {},
   "source": [
    "# TD-TME08: algorithme des k-moyennes\n",
    "\n",
    "L'objectif de ce TP est d'implémenter un nouvel algorithme d'apprentissage non-supervisé, l'algorithme des K-moyennes (cours 9)."
   ]
  },
  {
   "cell_type": "markdown",
   "metadata": {},
   "source": [
    "<font size=\"+1\" color=\"RED\">**[Q]**</font> **Indiquer dans la boîte ci-dessous vos noms et prénoms :**"
   ]
  },
  {
   "cell_type": "markdown",
   "metadata": {},
   "source": [
    "*Double-cliquer ici et insérer les noms et prénoms de votre binôme*"
   ]
  },
  {
   "cell_type": "markdown",
   "metadata": {},
   "source": [
    "<font color=\"RED\" size=\"+1\">**[Q]**</font> **Renommer ce fichier ipython**\n",
    "\n",
    "Compléter le nom de ce notebook en rajoutant les noms des membres du binômes séparés par un tiret."
   ]
  },
  {
   "cell_type": "markdown",
   "metadata": {},
   "source": [
    "## Préparation\n",
    "\n",
    "Décompresser l'archive, elle crée le répertoire \"tp8\" qui contient un fichier ipython à ouvrir (ce fichier-ci) et un sous-répertoire \"data\" contenant les bases d'apprentissage utilisées dans ce TP."
   ]
  },
  {
   "cell_type": "code",
   "execution_count": 1,
   "metadata": {},
   "outputs": [],
   "source": [
    "import numpy as np\n",
    "import pandas as pd\n",
    "from datetime import datetime as dt\n",
    "import matplotlib.pyplot as plt\n",
    "%matplotlib inline  "
   ]
  },
  {
   "cell_type": "markdown",
   "metadata": {},
   "source": [
    "## Travail à réaliser\n",
    "Le travail à faire se décompose en 2 phases :\n",
    "- dans un premier temps, le travail porte sur la base d'apprentissage <code>base-2D.csv</code> qui contient des exemples décrits dans $R^2$. Ainsi, il est plus aisé de visualiser les résultats des fonctions à écrire ;\n",
    "- dans un second temps, les fonctions écrites dans la phase précédente sont à utiliser avec la base d'apprentissage \"base-Paris.csv\".\n",
    "\n",
    "**Attention**: vos fonctions doivent **dès leur création** pouvoir s'appliquer **quelle que soit la dimension** des exemples traités.\n",
    "\n",
    "\n",
    "### Important :\n",
    "Dans la suite de ce TP, on appelle:\n",
    "\n",
    "- \"base d'apprentissage\" le dataframe contenant l'ensemble des exemples d'apprentissage chargés par la commande précédente\n",
    "- \"base d'exemples\" : un dataframe contenant un ensemble d'exemples (remarque: la base d'apprentissage est le plus grand ensemble d'exemples possible)"
   ]
  },
  {
   "cell_type": "markdown",
   "metadata": {},
   "source": [
    "**Rappel**: avec un dataframe, il est facile d'accéder à tous les éléments d'une colonne, par exemple si <code>DF</code> est un dataframe, '<code>DF['X']</code> permet de récupérer une <code>Series</code> contenant toutes les lignes de la colonne de nom 'X'.\n",
    "On peut accéder à une ligne (ou un ensemble de ligne) très facilement:\n",
    "- <code>DF.iloc[0]</code> permet de récupérer la ligne d'indice 0 sous la forme d'une \"series\"\n",
    "- <code>DF.iloc[0:1]</code> permet de récupérer la ligne d'indice 0 sous la forme d'un dataframe (cettte instruction réalise un \"slicing\")\n",
    "- <code>DF.iloc[0:5]</code> permet de récupérer les lignes d'indice de 0 à 4\n",
    "\n",
    "etc."
   ]
  },
  {
   "cell_type": "markdown",
   "metadata": {},
   "source": [
    "### Données d'expérimentation\n",
    "\n",
    "Commencer par charger le fichier <code>base_2D.csv</code> qui permettra d'expérimenter vos fonctions. Dans ce qui suit, on note <code>data_2D</code> le dataframe qui contient les données de ce fichiers.\n"
   ]
  },
  {
   "cell_type": "code",
   "execution_count": 2,
   "metadata": {
    "scrolled": true
   },
   "outputs": [],
   "source": [
    "data=pd.read_csv(\"data/base-2D.csv\")"
   ]
  },
  {
   "cell_type": "markdown",
   "metadata": {},
   "source": [
    "## Partie 1 : fonctions utiles (et retour vers la séance dernière)"
   ]
  },
  {
   "cell_type": "markdown",
   "metadata": {},
   "source": [
    "<font size=\"+1\" color=\"RED\">**[Q]**</font> (Ré)écrire la fonction <code>normalisation()</code> du TD-TME07: cette fonction doit prendre en argument un <code>DataFrame DF</code> et rendre **le dataframe** obtenu en normalisant chaque colonne de <code>DF</code> par la méthode vue en cours 8."
   ]
  },
  {
   "cell_type": "code",
   "execution_count": 3,
   "metadata": {},
   "outputs": [],
   "source": [
    "def normalisation(df):\n",
    "    return (df-df.min())/(df.max()-df.min())"
   ]
  },
  {
   "cell_type": "code",
   "execution_count": 4,
   "metadata": {},
   "outputs": [],
   "source": [
    "data=normalisation(data)"
   ]
  },
  {
   "cell_type": "code",
   "execution_count": 5,
   "metadata": {},
   "outputs": [
    {
     "data": {
      "text/html": [
       "<div>\n",
       "<style scoped>\n",
       "    .dataframe tbody tr th:only-of-type {\n",
       "        vertical-align: middle;\n",
       "    }\n",
       "\n",
       "    .dataframe tbody tr th {\n",
       "        vertical-align: top;\n",
       "    }\n",
       "\n",
       "    .dataframe thead th {\n",
       "        text-align: right;\n",
       "    }\n",
       "</style>\n",
       "<table border=\"1\" class=\"dataframe\">\n",
       "  <thead>\n",
       "    <tr style=\"text-align: right;\">\n",
       "      <th></th>\n",
       "      <th>X</th>\n",
       "      <th>Y</th>\n",
       "    </tr>\n",
       "  </thead>\n",
       "  <tbody>\n",
       "    <tr>\n",
       "      <th>0</th>\n",
       "      <td>0.000000</td>\n",
       "      <td>0.6</td>\n",
       "    </tr>\n",
       "    <tr>\n",
       "      <th>1</th>\n",
       "      <td>0.142857</td>\n",
       "      <td>0.5</td>\n",
       "    </tr>\n",
       "    <tr>\n",
       "      <th>2</th>\n",
       "      <td>0.142857</td>\n",
       "      <td>0.0</td>\n",
       "    </tr>\n",
       "    <tr>\n",
       "      <th>3</th>\n",
       "      <td>0.285714</td>\n",
       "      <td>0.0</td>\n",
       "    </tr>\n",
       "    <tr>\n",
       "      <th>4</th>\n",
       "      <td>0.285714</td>\n",
       "      <td>0.2</td>\n",
       "    </tr>\n",
       "    <tr>\n",
       "      <th>5</th>\n",
       "      <td>0.571429</td>\n",
       "      <td>0.6</td>\n",
       "    </tr>\n",
       "    <tr>\n",
       "      <th>6</th>\n",
       "      <td>0.571429</td>\n",
       "      <td>0.8</td>\n",
       "    </tr>\n",
       "    <tr>\n",
       "      <th>7</th>\n",
       "      <td>0.571429</td>\n",
       "      <td>1.0</td>\n",
       "    </tr>\n",
       "    <tr>\n",
       "      <th>8</th>\n",
       "      <td>0.642857</td>\n",
       "      <td>0.0</td>\n",
       "    </tr>\n",
       "    <tr>\n",
       "      <th>9</th>\n",
       "      <td>0.642857</td>\n",
       "      <td>1.0</td>\n",
       "    </tr>\n",
       "    <tr>\n",
       "      <th>10</th>\n",
       "      <td>0.714286</td>\n",
       "      <td>0.0</td>\n",
       "    </tr>\n",
       "    <tr>\n",
       "      <th>11</th>\n",
       "      <td>0.714286</td>\n",
       "      <td>0.8</td>\n",
       "    </tr>\n",
       "    <tr>\n",
       "      <th>12</th>\n",
       "      <td>0.857143</td>\n",
       "      <td>0.2</td>\n",
       "    </tr>\n",
       "    <tr>\n",
       "      <th>13</th>\n",
       "      <td>1.000000</td>\n",
       "      <td>0.6</td>\n",
       "    </tr>\n",
       "  </tbody>\n",
       "</table>\n",
       "</div>"
      ],
      "text/plain": [
       "           X    Y\n",
       "0   0.000000  0.6\n",
       "1   0.142857  0.5\n",
       "2   0.142857  0.0\n",
       "3   0.285714  0.0\n",
       "4   0.285714  0.2\n",
       "5   0.571429  0.6\n",
       "6   0.571429  0.8\n",
       "7   0.571429  1.0\n",
       "8   0.642857  0.0\n",
       "9   0.642857  1.0\n",
       "10  0.714286  0.0\n",
       "11  0.714286  0.8\n",
       "12  0.857143  0.2\n",
       "13  1.000000  0.6"
      ]
     },
     "execution_count": 5,
     "metadata": {},
     "output_type": "execute_result"
    }
   ],
   "source": [
    "data"
   ]
  },
  {
   "cell_type": "code",
   "execution_count": 6,
   "metadata": {
    "scrolled": true
   },
   "outputs": [
    {
     "name": "stdout",
     "output_type": "stream",
     "text": [
      "---> type de DataFnorm: <class 'pandas.core.frame.DataFrame'>\n"
     ]
    },
    {
     "data": {
      "text/plain": [
       "<matplotlib.collections.PathCollection at 0x7f495d1df9b0>"
      ]
     },
     "execution_count": 6,
     "metadata": {},
     "output_type": "execute_result"
    },
    {
     "data": {
      "image/png": "[encoded data removed]",
      "text/plain": [
       "<Figure size 432x288 with 1 Axes>"
      ]
     },
     "metadata": {},
     "output_type": "display_data"
    }
   ],
   "source": [
    "# Affichage des points après normalisation:\n",
    "\n",
    "DataFnorm = normalisation(data)\n",
    "print(\"---> type de DataFnorm:\",type(DataFnorm))\n",
    "\n",
    "plt.scatter(DataFnorm['X'],DataFnorm['Y'])"
   ]
  },
  {
   "cell_type": "markdown",
   "metadata": {},
   "source": [
    "<font size=\"+1\" color=\"RED\">**[Q]**</font> Réécrire la fonction <code>dist_vect()</code> qui calcule la distance euclidienne entre deux <code>Series</code>."
   ]
  },
  {
   "cell_type": "code",
   "execution_count": 7,
   "metadata": {},
   "outputs": [],
   "source": [
    "def dist_euclidienne_vect(vect1,vect2):\n",
    "     return np.sqrt(np.sum((vect1-vect2)**2))"
   ]
  },
  {
   "cell_type": "code",
   "execution_count": 8,
   "metadata": {},
   "outputs": [
    {
     "data": {
      "text/plain": [
       "0.6975174637562116"
      ]
     },
     "execution_count": 8,
     "metadata": {},
     "output_type": "execute_result"
    }
   ],
   "source": [
    "dist_euclidienne_vect(data.iloc[0],data.iloc[7])"
   ]
  },
  {
   "cell_type": "markdown",
   "metadata": {},
   "source": [
    "### Calcul de centroides\n",
    "\n",
    "<font size=\"+1\" color=\"RED\">**[Q]**</font> Ecrire la fonction <code>centroide()</code> qui, étant donné un DataFrame représentant plusieurs exemples rend le centroide. Cette fonction doit rendre un DataFrame."
   ]
  },
  {
   "cell_type": "code",
   "execution_count": 9,
   "metadata": {},
   "outputs": [],
   "source": [
    "def centroide(df):\n",
    "    return df.mean().to_frame().transpose()"
   ]
  },
  {
   "cell_type": "code",
   "execution_count": 10,
   "metadata": {},
   "outputs": [
    {
     "data": {
      "text/html": [
       "<div>\n",
       "<style scoped>\n",
       "    .dataframe tbody tr th:only-of-type {\n",
       "        vertical-align: middle;\n",
       "    }\n",
       "\n",
       "    .dataframe tbody tr th {\n",
       "        vertical-align: top;\n",
       "    }\n",
       "\n",
       "    .dataframe thead th {\n",
       "        text-align: right;\n",
       "    }\n",
       "</style>\n",
       "<table border=\"1\" class=\"dataframe\">\n",
       "  <thead>\n",
       "    <tr style=\"text-align: right;\">\n",
       "      <th></th>\n",
       "      <th>X</th>\n",
       "      <th>Y</th>\n",
       "    </tr>\n",
       "  </thead>\n",
       "  <tbody>\n",
       "    <tr>\n",
       "      <th>0</th>\n",
       "      <td>0.510204</td>\n",
       "      <td>0.45</td>\n",
       "    </tr>\n",
       "  </tbody>\n",
       "</table>\n",
       "</div>"
      ],
      "text/plain": [
       "          X     Y\n",
       "0  0.510204  0.45"
      ]
     },
     "execution_count": 10,
     "metadata": {},
     "output_type": "execute_result"
    }
   ],
   "source": [
    "centroide(DataFnorm)"
   ]
  },
  {
   "cell_type": "markdown",
   "metadata": {},
   "source": [
    "## Partie 2: implémentation des k-moyennes"
   ]
  },
  {
   "cell_type": "markdown",
   "metadata": {},
   "source": [
    "### Inertie d'un cluster\n",
    "<font size=\"+1\" color=\"RED\">**[Q]**</font> Ecrire la fonction <code>inertie_cluster</code> qui, étant donné un DataFrame contenant un ensemble d'exemples, rend la valeur de l'inertie de cet ensemble telle qu'elle a été définie dans le cours."
   ]
  },
  {
   "cell_type": "code",
   "execution_count": 48,
   "metadata": {},
   "outputs": [],
   "source": [
    "def inertie_cluster(df):\n",
    "    return np.sum((dist_euclidienne_vect(df.as_matrix(),centroide(df).as_matrix()))**2)"
   ]
  },
  {
   "cell_type": "code",
   "execution_count": 49,
   "metadata": {},
   "outputs": [],
   "source": [
    "x=dist_euclidienne_vect(data.iloc[0],centroide(data))\n",
    "\n"
   ]
  },
  {
   "cell_type": "code",
   "execution_count": 50,
   "metadata": {},
   "outputs": [
    {
     "name": "stdout",
     "output_type": "stream",
     "text": [
      "inertie : 2.975991253644316\n"
     ]
    },
    {
     "name": "stderr",
     "output_type": "stream",
     "text": [
      "/usr/local/lib/python3.5/dist-packages/ipykernel_launcher.py:2: FutureWarning: Method .as_matrix will be removed in a future version. Use .values instead.\n",
      "  \n"
     ]
    }
   ],
   "source": [
    "print(\"inertie :\",inertie_cluster(DataFnorm))"
   ]
  },
  {
   "cell_type": "markdown",
   "metadata": {},
   "source": [
    "Dans ce qui suit, on appelle \"ensemble de centroides\" un dataframe contenant $K$ vecteurs de dimensions $p$.\n",
    "\n",
    "<font size=\"+1\" color=\"RED\">**[Q]**</font> Ecrire la fonction <code>initialisation()</code> qui étant donné un entier $K>1$ et une base d'apprentissage (sous la forme d'un DataFrame) de $n$ exemples rend un dataframe contenant $K$ exemples tirés aléatoirement dans la base.\n",
    "On fait l'hypothèse que $K\\leq n$.\n",
    "\n",
    "*Remarque*: étudier les fonctions de la librairie random de Python...\n"
   ]
  },
  {
   "cell_type": "code",
   "execution_count": 51,
   "metadata": {},
   "outputs": [],
   "source": [
    "def initialisation(K,dataframe):\n",
    "    l_index = list(range(len(dataframe)))\n",
    "    np.random.shuffle(l_index)\n",
    "    labels = list(dataframe)\n",
    "    values = []\n",
    "    for i in range(K):\n",
    "        index = l_index.pop()\n",
    "        values.append(tuple(dataframe.iloc[index]))\n",
    "    \n",
    "    return pd.DataFrame(values, columns=labels)\n",
    "        "
   ]
  },
  {
   "cell_type": "code",
   "execution_count": 52,
   "metadata": {},
   "outputs": [
    {
     "data": {
      "text/html": [
       "<div>\n",
       "<style scoped>\n",
       "    .dataframe tbody tr th:only-of-type {\n",
       "        vertical-align: middle;\n",
       "    }\n",
       "\n",
       "    .dataframe tbody tr th {\n",
       "        vertical-align: top;\n",
       "    }\n",
       "\n",
       "    .dataframe thead th {\n",
       "        text-align: right;\n",
       "    }\n",
       "</style>\n",
       "<table border=\"1\" class=\"dataframe\">\n",
       "  <thead>\n",
       "    <tr style=\"text-align: right;\">\n",
       "      <th></th>\n",
       "      <th>X</th>\n",
       "      <th>Y</th>\n",
       "    </tr>\n",
       "  </thead>\n",
       "  <tbody>\n",
       "    <tr>\n",
       "      <th>0</th>\n",
       "      <td>1.000000</td>\n",
       "      <td>0.6</td>\n",
       "    </tr>\n",
       "    <tr>\n",
       "      <th>1</th>\n",
       "      <td>0.642857</td>\n",
       "      <td>1.0</td>\n",
       "    </tr>\n",
       "    <tr>\n",
       "      <th>2</th>\n",
       "      <td>0.571429</td>\n",
       "      <td>1.0</td>\n",
       "    </tr>\n",
       "  </tbody>\n",
       "</table>\n",
       "</div>"
      ],
      "text/plain": [
       "          X    Y\n",
       "0  1.000000  0.6\n",
       "1  0.642857  1.0\n",
       "2  0.571429  1.0"
      ]
     },
     "execution_count": 52,
     "metadata": {},
     "output_type": "execute_result"
    }
   ],
   "source": [
    "# Par exemple (mais vous ne devriez pas pouvoir retrouver exactement les mêmes !)\n",
    "Centroides_test = initialisation(3,DataFnorm)\n",
    "Centroides_test\n"
   ]
  },
  {
   "cell_type": "markdown",
   "metadata": {},
   "source": [
    "En utilisant l'option <code>\"color='blue'\"</code> ou <code>\"color='red'\"</code> de la fonction <code>scatter()<code>, on peut réaliser l'affichage de la base d'apprentissage (en bleu) et des centroides initiaux (en rouge)."
   ]
  },
  {
   "cell_type": "code",
   "execution_count": 53,
   "metadata": {},
   "outputs": [
    {
     "data": {
      "text/plain": [
       "<matplotlib.collections.PathCollection at 0x7f495d0b0b38>"
      ]
     },
     "execution_count": 53,
     "metadata": {},
     "output_type": "execute_result"
    },
    {
     "data": {
      "image/png": "[encoded data removed]",
      "text/plain": [
       "<Figure size 432x288 with 1 Axes>"
      ]
     },
     "metadata": {},
     "output_type": "display_data"
    }
   ],
   "source": [
    "plt.scatter(DataFnorm['X'],DataFnorm['Y'],color='blue')\n",
    "plt.scatter(Centroides_test['X'],Centroides_test['Y'],color='red')"
   ]
  },
  {
   "cell_type": "markdown",
   "metadata": {},
   "source": [
    "<font size=\"+1\" color=\"RED\">**[Q]**</font> Ecrire la fonction <code>plus_proche()</code> qui, étant donné un exemple et un dataframe contenant un ensemble de centroides, rend l'indice (dans le DataFrame) du centroide dont l'exemple est le plus proche.\n",
    "En cas d'égalité de distance, le centroide de plus petit indice est choisi."
   ]
  },
  {
   "cell_type": "code",
   "execution_count": 34,
   "metadata": {},
   "outputs": [],
   "source": [
    "def plus_proche(x,dataframe):\n",
    "    ind_min=0\n",
    "    val_min = float('inf')\n",
    "    for i in range(len(dataframe)):\n",
    "        dist= dist_euclidienne_vect(x,dataframe.iloc[i])\n",
    "        if dist < val_min :\n",
    "            ind_min = i\n",
    "            val_min = dist\n",
    "            \n",
    "    return ind_min"
   ]
  },
  {
   "cell_type": "code",
   "execution_count": 35,
   "metadata": {},
   "outputs": [
    {
     "name": "stdout",
     "output_type": "stream",
     "text": [
      "Exemple  0 : ( 0.0 ,  0.6 ) est plus proche du centroide 2 : ( 0.5714285714285714 ,  0.6 )\n",
      "Exemple  1 : ( 0.14285714285714285 ,  0.5 ) est plus proche du centroide 2 : ( 0.5714285714285714 ,  0.6 )\n",
      "Exemple  2 : ( 0.14285714285714285 ,  0.0 ) est plus proche du centroide 2 : ( 0.5714285714285714 ,  0.6 )\n",
      "Exemple  3 : ( 0.2857142857142857 ,  0.0 ) est plus proche du centroide 2 : ( 0.5714285714285714 ,  0.6 )\n",
      "Exemple  4 : ( 0.2857142857142857 ,  0.2 ) est plus proche du centroide 2 : ( 0.5714285714285714 ,  0.6 )\n",
      "Exemple  5 : ( 0.5714285714285714 ,  0.6 ) est plus proche du centroide 2 : ( 0.5714285714285714 ,  0.6 )\n",
      "Exemple  6 : ( 0.5714285714285714 ,  0.8 ) est plus proche du centroide 1 : ( 0.5714285714285714 ,  0.8 )\n",
      "Exemple  7 : ( 0.5714285714285714 ,  1.0 ) est plus proche du centroide 1 : ( 0.5714285714285714 ,  0.8 )\n",
      "Exemple  8 : ( 0.6428571428571429 ,  0.0 ) est plus proche du centroide 2 : ( 0.5714285714285714 ,  0.6 )\n",
      "Exemple  9 : ( 0.6428571428571429 ,  1.0 ) est plus proche du centroide 0 : ( 0.7142857142857143 ,  0.8 )\n",
      "Exemple  10 : ( 0.7142857142857143 ,  0.0 ) est plus proche du centroide 2 : ( 0.5714285714285714 ,  0.6 )\n",
      "Exemple  11 : ( 0.7142857142857143 ,  0.8 ) est plus proche du centroide 0 : ( 0.7142857142857143 ,  0.8 )\n",
      "Exemple  12 : ( 0.8571428571428571 ,  0.2 ) est plus proche du centroide 2 : ( 0.5714285714285714 ,  0.6 )\n",
      "Exemple  13 : ( 1.0 ,  0.6 ) est plus proche du centroide 0 : ( 0.7142857142857143 ,  0.8 )\n"
     ]
    }
   ],
   "source": [
    "for i in range(0,len(DataFnorm)):\n",
    "    pproche = plus_proche(DataFnorm.iloc[i],Centroides_test)\n",
    "    print(\"Exemple \",i,\": (\",DataFnorm.iloc[i]['X'],\", \",DataFnorm.iloc[i]['Y'], \")\",\\\n",
    "          \"est plus proche du centroide\",pproche, \": (\",Centroides_test.iloc[pproche]['X'],\", \", \\\n",
    "          Centroides_test.iloc[pproche]['Y'],\")\")"
   ]
  },
  {
   "cell_type": "markdown",
   "metadata": {},
   "source": [
    "### Matrice d'affectation\n",
    "\n",
    "Etant donné une base d'apprentissage, on peut représenter une partition de cette base en K clusters à l'aide d'une matrice U contenant n lignes (une par exemple) et K colonnes (une par cluster) telle que \n",
    "- U[i,j] = 1 si l'exemple i appartient au cluster j\n",
    "- U[i,j] = 0 si l'exemple i n'appartient pas au cluster j\n",
    "- un exemple appartient à un et un seul cluster\n",
    "- un cluster contient au moins un exemple\n",
    "\n",
    "On appelle **matrice d'affectation** une telle matrice U.\n"
   ]
  },
  {
   "cell_type": "markdown",
   "metadata": {},
   "source": [
    "<font size=\"+1\" color=\"RED\">**[Q]**</font> Donner une expression mathématique (pas du Python) des 2 dernières contraintes que vérifie une matrice d'affectation."
   ]
  },
  {
   "cell_type": "markdown",
   "metadata": {},
   "source": [
    "### Implémentation en Python\n",
    "Nous utilisons un dictionnaire pour représenter d'une matrice d'affectation: \n",
    "- les clés de ce dictionnaire correspondent aux $K$ indices des clusters\n",
    "- les valeurs correspondent à des listes d'indices d'exemples (leur indice dans la base d'apprentissage)\n",
    "\n",
    "Dans tout ce qui suit, une \"matrice d'affectation\" sera un tel dictionnaire.\n"
   ]
  },
  {
   "cell_type": "markdown",
   "metadata": {},
   "source": [
    "<font size=\"+1\" color=\"RED\">**[Q]**</font> Ecrire la fonction <code>affecte_cluster()</code> qui, étant donné une base d'apprentissage et un ensemble de centroïdes, rend la matrice d'affectation des exemples de la base aux clusters représentés par chaque centroïde."
   ]
  },
  {
   "cell_type": "code",
   "execution_count": 19,
   "metadata": {},
   "outputs": [],
   "source": [
    "def affecte_cluster(dataframe,centroides):\n",
    "    d = dict()\n",
    "    for i in range(len(centroides)):\n",
    "        d[i] = []\n",
    "    \n",
    "    \n",
    "    for i in range(len(dataframe)):\n",
    "        d[ plus_proche(dataframe.iloc[i],centroides) ].append(i)\n",
    "    return d"
   ]
  },
  {
   "cell_type": "code",
   "execution_count": 20,
   "metadata": {},
   "outputs": [
    {
     "data": {
      "text/plain": [
       "{0: [9, 11, 13], 1: [6, 7], 2: [0, 1, 2, 3, 4, 5, 8, 10, 12]}"
      ]
     },
     "execution_count": 20,
     "metadata": {},
     "output_type": "execute_result"
    }
   ],
   "source": [
    "DictAffect = affecte_cluster(DataFnorm, Centroides_test)\n",
    "DictAffect"
   ]
  },
  {
   "cell_type": "markdown",
   "metadata": {},
   "source": [
    "### Ensemble des centroides\n",
    "Grâce à la matrice d'affectation, on peut maintenant trouver les nouveaux centroides. Ceux-ci sont déterminés en prenant les moyennes des ensembles des exemples qui sont affectés au même cluster.\n",
    "\n",
    "<font size=\"+1\" color=\"RED\">**[Q]**</font> Ecrire la fonction <code>nouveaux_centroides()</code> qui, étant donné une base d'apprentissage et une matrice d'affectation, rend l'ensemble des nouveaux centroides obtenus."
   ]
  },
  {
   "cell_type": "code",
   "execution_count": 21,
   "metadata": {},
   "outputs": [],
   "source": [
    "def nouveaux_centroides(dataframe,matrix):\n",
    "        values=[centroide(dataframe.iloc[matrix[i]]).values[0] for i in range(len(matrix))]\n",
    "        return pd.DataFrame(values,columns=list(dataframe))"
   ]
  },
  {
   "cell_type": "code",
   "execution_count": 22,
   "metadata": {},
   "outputs": [
    {
     "data": {
      "text/html": [
       "<div>\n",
       "<style scoped>\n",
       "    .dataframe tbody tr th:only-of-type {\n",
       "        vertical-align: middle;\n",
       "    }\n",
       "\n",
       "    .dataframe tbody tr th {\n",
       "        vertical-align: top;\n",
       "    }\n",
       "\n",
       "    .dataframe thead th {\n",
       "        text-align: right;\n",
       "    }\n",
       "</style>\n",
       "<table border=\"1\" class=\"dataframe\">\n",
       "  <thead>\n",
       "    <tr style=\"text-align: right;\">\n",
       "      <th></th>\n",
       "      <th>X</th>\n",
       "      <th>Y</th>\n",
       "    </tr>\n",
       "  </thead>\n",
       "  <tbody>\n",
       "    <tr>\n",
       "      <th>0</th>\n",
       "      <td>0.785714</td>\n",
       "      <td>0.800000</td>\n",
       "    </tr>\n",
       "    <tr>\n",
       "      <th>1</th>\n",
       "      <td>0.571429</td>\n",
       "      <td>0.900000</td>\n",
       "    </tr>\n",
       "    <tr>\n",
       "      <th>2</th>\n",
       "      <td>0.404762</td>\n",
       "      <td>0.233333</td>\n",
       "    </tr>\n",
       "  </tbody>\n",
       "</table>\n",
       "</div>"
      ],
      "text/plain": [
       "          X         Y\n",
       "0  0.785714  0.800000\n",
       "1  0.571429  0.900000\n",
       "2  0.404762  0.233333"
      ]
     },
     "execution_count": 22,
     "metadata": {},
     "output_type": "execute_result"
    }
   ],
   "source": [
    "nouveaux_centroides(DataFnorm, DictAffect)"
   ]
  },
  {
   "cell_type": "markdown",
   "metadata": {},
   "source": [
    "### Inertie globale d'une partition\n",
    "\n",
    "<font size=\"+1\" color=\"RED\">**[Q]**</font> En utilisant la fonction <code>inertie_cluster()</code>, écrire la fonction <code>inertie_globale()</code> qui, étant donné une base d'apprentissage et une matrice d'affectation, rend la valeur de l'inertie globale du partitionnement correspondant.\n"
   ]
  },
  {
   "cell_type": "code",
   "execution_count": 43,
   "metadata": {},
   "outputs": [],
   "source": [
    "def inertie_globale(df,mt):\n",
    "    somme=0\n",
    "    for i in mt.keys():\n",
    "        somme+=inertie_cluster(df.iloc[mt[i]])\n",
    "    return somme"
   ]
  },
  {
   "cell_type": "code",
   "execution_count": 24,
   "metadata": {},
   "outputs": [
    {
     "name": "stderr",
     "output_type": "stream",
     "text": [
      "/usr/local/lib/python3.5/dist-packages/ipykernel_launcher.py:2: FutureWarning: Method .as_matrix will be removed in a future version. Use .values instead.\n",
      "  \n"
     ]
    },
    {
     "data": {
      "text/plain": [
       "1.4457142857142857"
      ]
     },
     "execution_count": 24,
     "metadata": {},
     "output_type": "execute_result"
    }
   ],
   "source": [
    "inertie_globale(DataFnorm,DictAffect)"
   ]
  },
  {
   "cell_type": "markdown",
   "metadata": {},
   "source": [
    "### Algorithme des K-moyennes\n",
    "\n",
    "<font size=\"+1\" color=\"RED\">**[Q]**</font> En utilisant les fonctions précédentes, implémenter l'algorithme des K-moyennes.\n",
    "Pour cela, écrire une fonction <code>kmoyennes()</code> qui prend en argument un entier $K>1$, une base d'apprentissage, ainsi que deux nombres: un réel *epsilon*$>0$ et un entier *iter_max*$>1$, et qui rend un ensemble de centroides et une matrice d'affectation.\n",
    "\n",
    "Le réel *epsilon* servira de critère de convergence, et l'entier *iter_max* sera utilisé pour fixer un nombre d'itérations maximale servant à arrêter le calcul."
   ]
  },
  {
   "cell_type": "code",
   "execution_count": 106,
   "metadata": {},
   "outputs": [],
   "source": [
    "def kmoyennes( K, dataframe, epsilon, iter_max,quiet=False):\n",
    "    centroides = initialisation(K, dataframe)\n",
    "    M = affecte_cluster(dataframe, centroides)# matrice d'affectation \n",
    "    J = inertie_globale(dataframe,M) # inertie globale\n",
    "    \n",
    "    J_pred = J  + epsilon +1 # inertie globale de l'itération précédante\n",
    "    # initialisée de sorte a ce qu'on soit sur d'entrer dans la boucle\n",
    "    i = 1 \n",
    "    while abs(J_pred - J) > epsilon and iter_max > 0:\n",
    "        \n",
    "        J_pred = J\n",
    "        centroides = nouveaux_centroides(dataframe,M)\n",
    "        M = affecte_cluster(dataframe, centroides)\n",
    "        J = inertie_globale(dataframe,M)\n",
    "        iter_max -= 1\n",
    "        i += 1\n",
    "    return (centroides,M)\n",
    "    "
   ]
  },
  {
   "cell_type": "code",
   "execution_count": 107,
   "metadata": {},
   "outputs": [
    {
     "name": "stdout",
     "output_type": "stream",
     "text": [
      "Affichage des centres:            X         Y\n",
      "0  0.678571  0.800000\n",
      "1  0.071429  0.550000\n",
      "2  0.238095  0.066667\n",
      "3  0.738095  0.066667\n",
      "Affichage des affectations:  {0: [5, 6, 7, 9, 11, 13], 1: [0, 1], 2: [2, 3, 4], 3: [8, 10, 12]}\n"
     ]
    },
    {
     "name": "stderr",
     "output_type": "stream",
     "text": [
      "/usr/local/lib/python3.5/dist-packages/ipykernel_launcher.py:2: FutureWarning: Method .as_matrix will be removed in a future version. Use .values instead.\n",
      "  \n"
     ]
    }
   ],
   "source": [
    "les_centres, l_affectation = kmoyennes(4, DataFnorm, 0.05, 100)\n",
    "\n",
    "print(\"Affichage des centres: \",les_centres)\n",
    "print(\"Affichage des affectations: \",l_affectation)"
   ]
  },
  {
   "cell_type": "code",
   "execution_count": 108,
   "metadata": {},
   "outputs": [
    {
     "name": "stdout",
     "output_type": "stream",
     "text": [
      "Affichage des centres:            X         Y\n",
      "0  0.238095  0.066667\n",
      "1  0.642857  0.000000\n",
      "2  0.785714  0.100000\n",
      "3  0.678571  0.800000\n",
      "4  0.071429  0.550000\n",
      "Affichage des affectations:  {0: [2, 3, 4], 1: [8, 10], 2: [12], 3: [5, 6, 7, 9, 11, 13], 4: [0, 1]}\n"
     ]
    },
    {
     "name": "stderr",
     "output_type": "stream",
     "text": [
      "/usr/local/lib/python3.5/dist-packages/ipykernel_launcher.py:2: FutureWarning: Method .as_matrix will be removed in a future version. Use .values instead.\n",
      "  \n"
     ]
    }
   ],
   "source": [
    "les_centres, l_affectation = kmoyennes(5, DataFnorm, 0.05, 100)\n",
    "\n",
    "print(\"Affichage des centres: \",les_centres)\n",
    "print(\"Affichage des affectations: \",l_affectation)"
   ]
  },
  {
   "cell_type": "markdown",
   "metadata": {},
   "source": [
    "On peut réaliser un affichage couleur des centroïdes trouvés:"
   ]
  },
  {
   "cell_type": "code",
   "execution_count": 109,
   "metadata": {},
   "outputs": [
    {
     "data": {
      "text/plain": [
       "<matplotlib.collections.PathCollection at 0x7f495cf97470>"
      ]
     },
     "execution_count": 109,
     "metadata": {},
     "output_type": "execute_result"
    },
    {
     "data": {
      "image/png": "[encoded data removed]",
      "text/plain": [
       "<Figure size 432x288 with 1 Axes>"
      ]
     },
     "metadata": {},
     "output_type": "display_data"
    }
   ],
   "source": [
    "plt.scatter(DataFnorm['X'],DataFnorm['Y'],color='b')\n",
    "plt.scatter(les_centres['X'],les_centres['Y'],color='r',marker='x')"
   ]
  },
  {
   "cell_type": "markdown",
   "metadata": {},
   "source": [
    "<font size=\"+1\" color=\"RED\">**[Q]**</font> Ecrire la fonction <code>affiche_resultat()</code> qui permet d'afficher le résultat de l'algorithme en utilisant des couleurs différentes pour les clusters trouvés (pour faire simple, on peut ne considèrer que le cas où K vaut 3).\n",
    "\n",
    "*Remarque*: La librairie matplotlib permet de manipuler aisément des couleurs:\n",
    "http://matplotlib.org/api/cm_api.html"
   ]
  },
  {
   "cell_type": "code",
   "execution_count": 118,
   "metadata": {},
   "outputs": [],
   "source": [
    "def affiche_resultat(df,centroides,matrice):\n",
    "    x=centroides.columns[0]\n",
    "    y=centroides.columns[1]\n",
    "    plt.scatter(centroides[x],centroides[y],color='r',marker='x')\n",
    "    color = ['blue','cyan','magenta','orange','red','green']\n",
    "    print(matrice)\n",
    "    for i in range(len(matrice)):\n",
    "        plt.scatter(df.iloc[matrice[i]][x],df.iloc[matrice[i]][y],color=color[i%len(color)])\n",
    "    "
   ]
  },
  {
   "cell_type": "code",
   "execution_count": 119,
   "metadata": {},
   "outputs": [
    {
     "name": "stdout",
     "output_type": "stream",
     "text": [
      "{0: [2, 3, 4], 1: [8, 10], 2: [12], 3: [5, 6, 7, 9, 11, 13], 4: [0, 1]}\n"
     ]
    },
    {
     "data": {
      "image/png": "[encoded data removed]",
      "text/plain": [
       "<Figure size 432x288 with 1 Axes>"
      ]
     },
     "metadata": {},
     "output_type": "display_data"
    }
   ],
   "source": [
    "affiche_resultat(DataFnorm,les_centres,l_affectation)"
   ]
  },
  {
   "cell_type": "markdown",
   "metadata": {},
   "source": [
    "### Expérimentations\n",
    "\n",
    "<font size=\"+1\" color=\"RED\">**[Q]**</font> Expérimenter l'algorithme des k-moyennes sur les données. Etudier l'impact du choix de $K$ sur l'inertie globale finale. Faire de même en relançant plusieurs fois l'algorithme avec la même valeur de $K$, en modifiant la valeur de epsilon ou de max_iter, etc."
   ]
  },
  {
   "cell_type": "code",
   "execution_count": 122,
   "metadata": {},
   "outputs": [
    {
     "name": "stderr",
     "output_type": "stream",
     "text": [
      "/usr/local/lib/python3.5/dist-packages/ipykernel_launcher.py:2: FutureWarning: Method .as_matrix will be removed in a future version. Use .values instead.\n",
      "  \n"
     ]
    },
    {
     "data": {
      "text/plain": [
       "Text(0,0.5,'Inertie')"
      ]
     },
     "execution_count": 122,
     "metadata": {},
     "output_type": "execute_result"
    },
    {
     "data": {
      "image/png": "[encoded data removed]",
      "text/plain": [
       "<Figure size 432x288 with 1 Axes>"
      ]
     },
     "metadata": {},
     "output_type": "display_data"
    }
   ],
   "source": [
    "kmax = 10\n",
    "nb_iter = 50 #nombre de calcul de l'inertie globale finale pour chaque K\n",
    "iter_max = 100 #nombre d'iteration max pour chaque execution de kmoyenne\n",
    "epsilon = 0.05\n",
    "\n",
    "inertie = []\n",
    "\n",
    "for k in range(2,kmax):\n",
    "    inertie.append(0)\n",
    "    for i in range(nb_iter):\n",
    "        inertie[k-2] += inertie_globale(data,kmoyennes(k, DataFnorm, epsilon, iter_max,True)[1])\n",
    "    inertie [k-2] /= nb_iter\n",
    "    \n",
    "plt.plot(range(2,kmax),inertie)\n",
    "plt.title(\"Inertie globale moyenne apres l'algorithme des kmoyennes en fonction du parametre K\\n\")\n",
    "plt.xlabel(\"K\")\n",
    "plt.ylabel(\"Inertie\")"
   ]
  },
  {
   "cell_type": "code",
   "execution_count": 123,
   "metadata": {},
   "outputs": [
    {
     "name": "stderr",
     "output_type": "stream",
     "text": [
      "/usr/local/lib/python3.5/dist-packages/ipykernel_launcher.py:2: FutureWarning: Method .as_matrix will be removed in a future version. Use .values instead.\n",
      "  \n"
     ]
    },
    {
     "data": {
      "text/plain": [
       "Text(0,0.5,'Inertie')"
      ]
     },
     "execution_count": 123,
     "metadata": {},
     "output_type": "execute_result"
    },
    {
     "data": {
      "image/png": "[encoded data removed]",
      "text/plain": [
       "<Figure size 432x288 with 1 Axes>"
      ]
     },
     "metadata": {},
     "output_type": "display_data"
    }
   ],
   "source": [
    "nb_iter = 50 #nombre de calcul de l'inertie globale finale pour chaque K\n",
    "iter_max = 100 #nombre d'iteration max pour chaque execution de kmoyenne\n",
    "\n",
    "epsilon_min = 0.01\n",
    "epsilon_max = 2\n",
    "epsilon_step = 0.1\n",
    "\n",
    "k = 3\n",
    "\n",
    "inertie = []\n",
    "epsilons = []\n",
    "\n",
    "for i in range(int((epsilon_max-epsilon_min)/epsilon_step)):\n",
    "    epsilon = epsilon_min + i*epsilon_step\n",
    "    epsilons.append(epsilon)\n",
    "    inertie.append(0)\n",
    "    for j in range(nb_iter):\n",
    "        inertie[i] += inertie_globale(data,kmoyennes(k, DataFnorm, epsilon, iter_max,True)[1])\n",
    "    inertie [i] /= nb_iter\n",
    "plt.plot(epsilons,inertie)\n",
    "plt.title(\"Inerties globales moyenne apres l'algorithme des kmoyennes en fonction du parametre epsilon\\n\")\n",
    "plt.xlabel(\"epsilon\")\n",
    "plt.ylabel(\"Inertie\")"
   ]
  },
  {
   "cell_type": "markdown",
   "metadata": {
    "collapsed": true
   },
   "source": [
    "## Application à des données réelles\n",
    "\n",
    "- Appliquer l'algorithme aux données concernant les déchets de la ville de Paris (qui sont fournies dans le répertoire data)\n",
    "- Trouver des bases d'apprentissage intéressantes sur http://opendata.paris.fr/\n",
    "\n",
    "\n",
    "Dans les 2 cas, étudier la base et les clusters qui peuvent être mis en évidence. En particulier, regarder la variation de l'inertie globale des clusters obtenus en fonction de la valeur de $K$ choisie.\n",
    "\n",
    "\n",
    "**Attention**: il faudra certainement préparer cette base afin de pouvoir appliquer l'algorithme de clustering: en particulier, certaines colonnes (Granularité, Total...) ne sont pas à utilisables dans le calcul des distances, il faudra donc les éliminer. Il faut aussi prévoir de conserver le nom de l'arrondissement afin de pouvoir à la fin analyser le résultat du clustering."
   ]
  },
  {
   "cell_type": "code",
   "execution_count": 165,
   "metadata": {},
   "outputs": [
    {
     "data": {
      "text/html": [
       "<div>\n",
       "<style scoped>\n",
       "    .dataframe tbody tr th:only-of-type {\n",
       "        vertical-align: middle;\n",
       "    }\n",
       "\n",
       "    .dataframe tbody tr th {\n",
       "        vertical-align: top;\n",
       "    }\n",
       "\n",
       "    .dataframe thead th {\n",
       "        text-align: right;\n",
       "    }\n",
       "</style>\n",
       "<table border=\"1\" class=\"dataframe\">\n",
       "  <thead>\n",
       "    <tr style=\"text-align: right;\">\n",
       "      <th></th>\n",
       "      <th>Granularité</th>\n",
       "      <th>janv-11</th>\n",
       "      <th>févr-11</th>\n",
       "      <th>mars-11</th>\n",
       "      <th>avr-11</th>\n",
       "      <th>mai-11</th>\n",
       "      <th>juin-11</th>\n",
       "      <th>juil-11</th>\n",
       "      <th>août-11</th>\n",
       "      <th>sept-11</th>\n",
       "      <th>oct-11</th>\n",
       "      <th>nov-11</th>\n",
       "      <th>déc-11</th>\n",
       "      <th>Total arrondissement 2011</th>\n",
       "    </tr>\n",
       "  </thead>\n",
       "  <tbody>\n",
       "    <tr>\n",
       "      <th>0</th>\n",
       "      <td>75010.0</td>\n",
       "      <td>233.8</td>\n",
       "      <td>219.6</td>\n",
       "      <td>265.4</td>\n",
       "      <td>207.6</td>\n",
       "      <td>259.7</td>\n",
       "      <td>218.8</td>\n",
       "      <td>203.8</td>\n",
       "      <td>179.8</td>\n",
       "      <td>210.7</td>\n",
       "      <td>219.5</td>\n",
       "      <td>270.0</td>\n",
       "      <td>235.9</td>\n",
       "      <td>2724.6</td>\n",
       "    </tr>\n",
       "    <tr>\n",
       "      <th>1</th>\n",
       "      <td>75015.0</td>\n",
       "      <td>595.8</td>\n",
       "      <td>516.9</td>\n",
       "      <td>574.3</td>\n",
       "      <td>463.1</td>\n",
       "      <td>592.1</td>\n",
       "      <td>518.4</td>\n",
       "      <td>457.0</td>\n",
       "      <td>395.9</td>\n",
       "      <td>470.0</td>\n",
       "      <td>540.6</td>\n",
       "      <td>573.4</td>\n",
       "      <td>545.1</td>\n",
       "      <td>6242.6</td>\n",
       "    </tr>\n",
       "    <tr>\n",
       "      <th>2</th>\n",
       "      <td>75020.0</td>\n",
       "      <td>365.5</td>\n",
       "      <td>294.9</td>\n",
       "      <td>340.1</td>\n",
       "      <td>282.7</td>\n",
       "      <td>335.2</td>\n",
       "      <td>323.1</td>\n",
       "      <td>266.3</td>\n",
       "      <td>261.6</td>\n",
       "      <td>274.3</td>\n",
       "      <td>314.8</td>\n",
       "      <td>336.6</td>\n",
       "      <td>318.0</td>\n",
       "      <td>3713.1</td>\n",
       "    </tr>\n",
       "    <tr>\n",
       "      <th>4</th>\n",
       "      <td>75008.0</td>\n",
       "      <td>395.9</td>\n",
       "      <td>315.5</td>\n",
       "      <td>361.5</td>\n",
       "      <td>332.3</td>\n",
       "      <td>408.2</td>\n",
       "      <td>408.3</td>\n",
       "      <td>348.9</td>\n",
       "      <td>252.4</td>\n",
       "      <td>425.1</td>\n",
       "      <td>416.8</td>\n",
       "      <td>392.3</td>\n",
       "      <td>429.8</td>\n",
       "      <td>4487.0</td>\n",
       "    </tr>\n",
       "    <tr>\n",
       "      <th>5</th>\n",
       "      <td>75012.0</td>\n",
       "      <td>334.8</td>\n",
       "      <td>304.1</td>\n",
       "      <td>314.0</td>\n",
       "      <td>331.0</td>\n",
       "      <td>314.0</td>\n",
       "      <td>300.0</td>\n",
       "      <td>311.0</td>\n",
       "      <td>218.1</td>\n",
       "      <td>315.0</td>\n",
       "      <td>313.0</td>\n",
       "      <td>314.0</td>\n",
       "      <td>323.0</td>\n",
       "      <td>3692.0</td>\n",
       "    </tr>\n",
       "  </tbody>\n",
       "</table>\n",
       "</div>"
      ],
      "text/plain": [
       "   Granularité  janv-11  févr-11  mars-11  avr-11  mai-11  juin-11  juil-11  \\\n",
       "0      75010.0    233.8    219.6    265.4   207.6   259.7    218.8    203.8   \n",
       "1      75015.0    595.8    516.9    574.3   463.1   592.1    518.4    457.0   \n",
       "2      75020.0    365.5    294.9    340.1   282.7   335.2    323.1    266.3   \n",
       "4      75008.0    395.9    315.5    361.5   332.3   408.2    408.3    348.9   \n",
       "5      75012.0    334.8    304.1    314.0   331.0   314.0    300.0    311.0   \n",
       "\n",
       "   août-11  sept-11  oct-11  nov-11  déc-11  Total arrondissement 2011  \n",
       "0    179.8    210.7   219.5   270.0   235.9                     2724.6  \n",
       "1    395.9    470.0   540.6   573.4   545.1                     6242.6  \n",
       "2    261.6    274.3   314.8   336.6   318.0                     3713.1  \n",
       "4    252.4    425.1   416.8   392.3   429.8                     4487.0  \n",
       "5    218.1    315.0   313.0   314.0   323.0                     3692.0  "
      ]
     },
     "execution_count": 165,
     "metadata": {},
     "output_type": "execute_result"
    }
   ],
   "source": [
    "data_dechet=pd.read_csv(\"data/dechet_paris.csv\",sep=\";\")\n",
    "data_dechet=data_dechet.drop(data_dechet.index[3])\n",
    "data_dechet.head(5)"
   ]
  },
  {
   "cell_type": "code",
   "execution_count": 166,
   "metadata": {},
   "outputs": [
    {
     "data": {
      "text/html": [
       "<div>\n",
       "<style scoped>\n",
       "    .dataframe tbody tr th:only-of-type {\n",
       "        vertical-align: middle;\n",
       "    }\n",
       "\n",
       "    .dataframe tbody tr th {\n",
       "        vertical-align: top;\n",
       "    }\n",
       "\n",
       "    .dataframe thead th {\n",
       "        text-align: right;\n",
       "    }\n",
       "</style>\n",
       "<table border=\"1\" class=\"dataframe\">\n",
       "  <thead>\n",
       "    <tr style=\"text-align: right;\">\n",
       "      <th></th>\n",
       "      <th>janv-11</th>\n",
       "      <th>févr-11</th>\n",
       "      <th>mars-11</th>\n",
       "      <th>avr-11</th>\n",
       "      <th>mai-11</th>\n",
       "      <th>juin-11</th>\n",
       "      <th>juil-11</th>\n",
       "      <th>août-11</th>\n",
       "      <th>sept-11</th>\n",
       "      <th>oct-11</th>\n",
       "      <th>nov-11</th>\n",
       "      <th>déc-11</th>\n",
       "      <th>Total arrondissement 2011</th>\n",
       "    </tr>\n",
       "  </thead>\n",
       "  <tbody>\n",
       "    <tr>\n",
       "      <th>0</th>\n",
       "      <td>233.8</td>\n",
       "      <td>219.6</td>\n",
       "      <td>265.4</td>\n",
       "      <td>207.6</td>\n",
       "      <td>259.7</td>\n",
       "      <td>218.8</td>\n",
       "      <td>203.8</td>\n",
       "      <td>179.8</td>\n",
       "      <td>210.7</td>\n",
       "      <td>219.5</td>\n",
       "      <td>270.0</td>\n",
       "      <td>235.9</td>\n",
       "      <td>2724.6</td>\n",
       "    </tr>\n",
       "    <tr>\n",
       "      <th>1</th>\n",
       "      <td>595.8</td>\n",
       "      <td>516.9</td>\n",
       "      <td>574.3</td>\n",
       "      <td>463.1</td>\n",
       "      <td>592.1</td>\n",
       "      <td>518.4</td>\n",
       "      <td>457.0</td>\n",
       "      <td>395.9</td>\n",
       "      <td>470.0</td>\n",
       "      <td>540.6</td>\n",
       "      <td>573.4</td>\n",
       "      <td>545.1</td>\n",
       "      <td>6242.6</td>\n",
       "    </tr>\n",
       "    <tr>\n",
       "      <th>2</th>\n",
       "      <td>365.5</td>\n",
       "      <td>294.9</td>\n",
       "      <td>340.1</td>\n",
       "      <td>282.7</td>\n",
       "      <td>335.2</td>\n",
       "      <td>323.1</td>\n",
       "      <td>266.3</td>\n",
       "      <td>261.6</td>\n",
       "      <td>274.3</td>\n",
       "      <td>314.8</td>\n",
       "      <td>336.6</td>\n",
       "      <td>318.0</td>\n",
       "      <td>3713.1</td>\n",
       "    </tr>\n",
       "    <tr>\n",
       "      <th>4</th>\n",
       "      <td>395.9</td>\n",
       "      <td>315.5</td>\n",
       "      <td>361.5</td>\n",
       "      <td>332.3</td>\n",
       "      <td>408.2</td>\n",
       "      <td>408.3</td>\n",
       "      <td>348.9</td>\n",
       "      <td>252.4</td>\n",
       "      <td>425.1</td>\n",
       "      <td>416.8</td>\n",
       "      <td>392.3</td>\n",
       "      <td>429.8</td>\n",
       "      <td>4487.0</td>\n",
       "    </tr>\n",
       "  </tbody>\n",
       "</table>\n",
       "</div>"
      ],
      "text/plain": [
       "   janv-11  févr-11  mars-11  avr-11  mai-11  juin-11  juil-11  août-11  \\\n",
       "0    233.8    219.6    265.4   207.6   259.7    218.8    203.8    179.8   \n",
       "1    595.8    516.9    574.3   463.1   592.1    518.4    457.0    395.9   \n",
       "2    365.5    294.9    340.1   282.7   335.2    323.1    266.3    261.6   \n",
       "4    395.9    315.5    361.5   332.3   408.2    408.3    348.9    252.4   \n",
       "\n",
       "   sept-11  oct-11  nov-11  déc-11  Total arrondissement 2011  \n",
       "0    210.7   219.5   270.0   235.9                     2724.6  \n",
       "1    470.0   540.6   573.4   545.1                     6242.6  \n",
       "2    274.3   314.8   336.6   318.0                     3713.1  \n",
       "4    425.1   416.8   392.3   429.8                     4487.0  "
      ]
     },
     "execution_count": 166,
     "metadata": {},
     "output_type": "execute_result"
    }
   ],
   "source": [
    "data_dechet=data_dechet.drop([\"Granularité\"],axis=1)\n",
    "data_dechet.head(4)"
   ]
  },
  {
   "cell_type": "code",
   "execution_count": 167,
   "metadata": {},
   "outputs": [
    {
     "data": {
      "text/html": [
       "<div>\n",
       "<style scoped>\n",
       "    .dataframe tbody tr th:only-of-type {\n",
       "        vertical-align: middle;\n",
       "    }\n",
       "\n",
       "    .dataframe tbody tr th {\n",
       "        vertical-align: top;\n",
       "    }\n",
       "\n",
       "    .dataframe thead th {\n",
       "        text-align: right;\n",
       "    }\n",
       "</style>\n",
       "<table border=\"1\" class=\"dataframe\">\n",
       "  <thead>\n",
       "    <tr style=\"text-align: right;\">\n",
       "      <th></th>\n",
       "      <th>janv-11</th>\n",
       "      <th>févr-11</th>\n",
       "      <th>mars-11</th>\n",
       "      <th>avr-11</th>\n",
       "      <th>mai-11</th>\n",
       "      <th>juin-11</th>\n",
       "      <th>juil-11</th>\n",
       "      <th>août-11</th>\n",
       "      <th>sept-11</th>\n",
       "      <th>oct-11</th>\n",
       "      <th>nov-11</th>\n",
       "      <th>déc-11</th>\n",
       "      <th>Total arrondissement 2011</th>\n",
       "    </tr>\n",
       "  </thead>\n",
       "  <tbody>\n",
       "    <tr>\n",
       "      <th>0</th>\n",
       "      <td>0.244101</td>\n",
       "      <td>0.281190</td>\n",
       "      <td>0.315229</td>\n",
       "      <td>0.278860</td>\n",
       "      <td>0.315063</td>\n",
       "      <td>0.246289</td>\n",
       "      <td>0.282313</td>\n",
       "      <td>0.308037</td>\n",
       "      <td>0.258719</td>\n",
       "      <td>0.240360</td>\n",
       "      <td>0.341008</td>\n",
       "      <td>0.265209</td>\n",
       "      <td>0.277811</td>\n",
       "    </tr>\n",
       "    <tr>\n",
       "      <th>1</th>\n",
       "      <td>1.000000</td>\n",
       "      <td>1.000000</td>\n",
       "      <td>1.000000</td>\n",
       "      <td>1.000000</td>\n",
       "      <td>1.000000</td>\n",
       "      <td>1.000000</td>\n",
       "      <td>1.000000</td>\n",
       "      <td>1.000000</td>\n",
       "      <td>1.000000</td>\n",
       "      <td>1.000000</td>\n",
       "      <td>1.000000</td>\n",
       "      <td>1.000000</td>\n",
       "      <td>1.000000</td>\n",
       "    </tr>\n",
       "    <tr>\n",
       "      <th>2</th>\n",
       "      <td>0.519106</td>\n",
       "      <td>0.463250</td>\n",
       "      <td>0.480825</td>\n",
       "      <td>0.490827</td>\n",
       "      <td>0.470637</td>\n",
       "      <td>0.508679</td>\n",
       "      <td>0.459467</td>\n",
       "      <td>0.569965</td>\n",
       "      <td>0.440537</td>\n",
       "      <td>0.465815</td>\n",
       "      <td>0.485665</td>\n",
       "      <td>0.460314</td>\n",
       "      <td>0.480734</td>\n",
       "    </tr>\n",
       "    <tr>\n",
       "      <th>4</th>\n",
       "      <td>0.582585</td>\n",
       "      <td>0.513056</td>\n",
       "      <td>0.528264</td>\n",
       "      <td>0.630821</td>\n",
       "      <td>0.621059</td>\n",
       "      <td>0.723019</td>\n",
       "      <td>0.693594</td>\n",
       "      <td>0.540506</td>\n",
       "      <td>0.871641</td>\n",
       "      <td>0.707121</td>\n",
       "      <td>0.606646</td>\n",
       "      <td>0.725998</td>\n",
       "      <td>0.639603</td>\n",
       "    </tr>\n",
       "    <tr>\n",
       "      <th>5</th>\n",
       "      <td>0.455001</td>\n",
       "      <td>0.485493</td>\n",
       "      <td>0.422966</td>\n",
       "      <td>0.627152</td>\n",
       "      <td>0.426952</td>\n",
       "      <td>0.450566</td>\n",
       "      <td>0.586168</td>\n",
       "      <td>0.430676</td>\n",
       "      <td>0.556890</td>\n",
       "      <td>0.461557</td>\n",
       "      <td>0.436577</td>\n",
       "      <td>0.472196</td>\n",
       "      <td>0.476403</td>\n",
       "    </tr>\n",
       "    <tr>\n",
       "      <th>6</th>\n",
       "      <td>0.787012</td>\n",
       "      <td>0.736460</td>\n",
       "      <td>0.755043</td>\n",
       "      <td>0.826983</td>\n",
       "      <td>0.769421</td>\n",
       "      <td>0.848805</td>\n",
       "      <td>0.775227</td>\n",
       "      <td>0.557157</td>\n",
       "      <td>0.893939</td>\n",
       "      <td>0.778093</td>\n",
       "      <td>0.658775</td>\n",
       "      <td>0.903755</td>\n",
       "      <td>0.774003</td>\n",
       "    </tr>\n",
       "    <tr>\n",
       "      <th>7</th>\n",
       "      <td>0.379620</td>\n",
       "      <td>0.167070</td>\n",
       "      <td>0.318555</td>\n",
       "      <td>0.351397</td>\n",
       "      <td>0.382238</td>\n",
       "      <td>0.389434</td>\n",
       "      <td>0.325113</td>\n",
       "      <td>0.424272</td>\n",
       "      <td>0.341338</td>\n",
       "      <td>0.349657</td>\n",
       "      <td>0.360556</td>\n",
       "      <td>0.318203</td>\n",
       "      <td>0.337795</td>\n",
       "    </tr>\n",
       "    <tr>\n",
       "      <th>8</th>\n",
       "      <td>0.032366</td>\n",
       "      <td>0.045696</td>\n",
       "      <td>0.059410</td>\n",
       "      <td>0.066610</td>\n",
       "      <td>0.077890</td>\n",
       "      <td>0.047296</td>\n",
       "      <td>0.054705</td>\n",
       "      <td>0.023055</td>\n",
       "      <td>0.083762</td>\n",
       "      <td>0.065058</td>\n",
       "      <td>0.059731</td>\n",
       "      <td>0.082937</td>\n",
       "      <td>0.053148</td>\n",
       "    </tr>\n",
       "    <tr>\n",
       "      <th>9</th>\n",
       "      <td>0.145333</td>\n",
       "      <td>0.169246</td>\n",
       "      <td>0.184438</td>\n",
       "      <td>0.208016</td>\n",
       "      <td>0.184216</td>\n",
       "      <td>0.195975</td>\n",
       "      <td>0.220522</td>\n",
       "      <td>0.173231</td>\n",
       "      <td>0.210978</td>\n",
       "      <td>0.203691</td>\n",
       "      <td>0.222198</td>\n",
       "      <td>0.197956</td>\n",
       "      <td>0.187424</td>\n",
       "    </tr>\n",
       "    <tr>\n",
       "      <th>10</th>\n",
       "      <td>0.660054</td>\n",
       "      <td>0.671422</td>\n",
       "      <td>0.730658</td>\n",
       "      <td>0.764042</td>\n",
       "      <td>0.648671</td>\n",
       "      <td>0.770818</td>\n",
       "      <td>0.738662</td>\n",
       "      <td>0.790906</td>\n",
       "      <td>0.755003</td>\n",
       "      <td>0.677313</td>\n",
       "      <td>0.691355</td>\n",
       "      <td>0.723384</td>\n",
       "      <td>0.711884</td>\n",
       "    </tr>\n",
       "  </tbody>\n",
       "</table>\n",
       "</div>"
      ],
      "text/plain": [
       "     janv-11   févr-11   mars-11    avr-11    mai-11   juin-11   juil-11  \\\n",
       "0   0.244101  0.281190  0.315229  0.278860  0.315063  0.246289  0.282313   \n",
       "1   1.000000  1.000000  1.000000  1.000000  1.000000  1.000000  1.000000   \n",
       "2   0.519106  0.463250  0.480825  0.490827  0.470637  0.508679  0.459467   \n",
       "4   0.582585  0.513056  0.528264  0.630821  0.621059  0.723019  0.693594   \n",
       "5   0.455001  0.485493  0.422966  0.627152  0.426952  0.450566  0.586168   \n",
       "6   0.787012  0.736460  0.755043  0.826983  0.769421  0.848805  0.775227   \n",
       "7   0.379620  0.167070  0.318555  0.351397  0.382238  0.389434  0.325113   \n",
       "8   0.032366  0.045696  0.059410  0.066610  0.077890  0.047296  0.054705   \n",
       "9   0.145333  0.169246  0.184438  0.208016  0.184216  0.195975  0.220522   \n",
       "10  0.660054  0.671422  0.730658  0.764042  0.648671  0.770818  0.738662   \n",
       "\n",
       "     août-11   sept-11    oct-11    nov-11    déc-11  \\\n",
       "0   0.308037  0.258719  0.240360  0.341008  0.265209   \n",
       "1   1.000000  1.000000  1.000000  1.000000  1.000000   \n",
       "2   0.569965  0.440537  0.465815  0.485665  0.460314   \n",
       "4   0.540506  0.871641  0.707121  0.606646  0.725998   \n",
       "5   0.430676  0.556890  0.461557  0.436577  0.472196   \n",
       "6   0.557157  0.893939  0.778093  0.658775  0.903755   \n",
       "7   0.424272  0.341338  0.349657  0.360556  0.318203   \n",
       "8   0.023055  0.083762  0.065058  0.059731  0.082937   \n",
       "9   0.173231  0.210978  0.203691  0.222198  0.197956   \n",
       "10  0.790906  0.755003  0.677313  0.691355  0.723384   \n",
       "\n",
       "    Total arrondissement 2011  \n",
       "0                    0.277811  \n",
       "1                    1.000000  \n",
       "2                    0.480734  \n",
       "4                    0.639603  \n",
       "5                    0.476403  \n",
       "6                    0.774003  \n",
       "7                    0.337795  \n",
       "8                    0.053148  \n",
       "9                    0.187424  \n",
       "10                   0.711884  "
      ]
     },
     "execution_count": 167,
     "metadata": {},
     "output_type": "execute_result"
    }
   ],
   "source": [
    "data_dechet_nor=normalisation(data_dechet)\n",
    "data_dechet_nor.head(10)"
   ]
  },
  {
   "cell_type": "code",
   "execution_count": 175,
   "metadata": {},
   "outputs": [
    {
     "name": "stderr",
     "output_type": "stream",
     "text": [
      "/usr/local/lib/python3.5/dist-packages/ipykernel_launcher.py:2: FutureWarning: Method .as_matrix will be removed in a future version. Use .values instead.\n",
      "  \n"
     ]
    }
   ],
   "source": [
    "les_centres, l_affectation = kmoyennes(6, data_dechet_nor, 0.05, 100)"
   ]
  },
  {
   "cell_type": "code",
   "execution_count": 176,
   "metadata": {},
   "outputs": [
    {
     "name": "stdout",
     "output_type": "stream",
     "text": [
      "{0: [1], 1: [7, 10, 11, 12], 2: [0, 6, 14, 18], 3: [8, 13], 4: [2, 4, 16, 19], 5: [3, 5, 9, 15, 17]}\n"
     ]
    },
    {
     "data": {
      "image/png": "[encoded data removed]",
      "text/plain": [
       "<Figure size 432x288 with 1 Axes>"
      ]
     },
     "metadata": {},
     "output_type": "display_data"
    }
   ],
   "source": [
    "affiche_resultat(data_dechet_nor,les_centres,l_affectation)"
   ]
  },
  {
   "cell_type": "markdown",
   "metadata": {},
   "source": [
    "## Questions de cours (à faire chez vous, sur papier)\n",
    "\n",
    "Pour vous entraîner sans machine...\n",
    "\n",
    "<font size=\"+1\" color=\"RED\">**[Q]**</font> On considère un ensemble fini $U$ d'éléments. \n",
    "- donner la fonction caractéristique de $U$\n",
    "- donner la fonction caractéristique de l'ensemble vide\n",
    "- soit $E$ et $F$ deux sous-ensembles de $U$ définis par leurs fonctions caractéristiques $\\chi_E$ et $\\chi_F$. En déduire les fonctions caractéristiques de $E\\cup F$, de $E\\cap F$ et de $E^{c}$. *(indice: penser au min et au max)*\n",
    "\n",
    "<font size=\"+1\" color=\"RED\">**[Q]**</font> Rappeler la définition d'une partition $P$ d'un ensemble $X$ en $K$ sous-ensembles. \n",
    "\n",
    "<font size=\"+1\" color=\"RED\">**[Q]**</font> Appliquer, à la main, l'algorithme des K-moyennes sur les données fournies sur le transparent 10 du cours 8 en utilisant d'abord $K=2$, puis $K=3$. Dans chacun des cas, réaliser au maximum 10 itérations de l'algorithme ($t_{max}=10$).\n",
    "Comparer les résultats obtenus.\n",
    "\n",
    "\n",
    "---"
   ]
  }
 ],
 "metadata": {
  "kernelspec": {
   "display_name": "Python 3",
   "language": "python",
   "name": "python3"
  },
  "language_info": {
   "codemirror_mode": {
    "name": "ipython",
    "version": 3
   },
   "file_extension": ".py",
   "mimetype": "text/x-python",
   "name": "python",
   "nbconvert_exporter": "python",
   "pygments_lexer": "ipython3",
   "version": "3.5.3"
  }
 },
 "nbformat": 4,
 "nbformat_minor": 1
}
